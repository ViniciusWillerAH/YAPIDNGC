{
 "cells": [
  {
   "cell_type": "code",
   "execution_count": 1,
   "metadata": {},
   "outputs": [],
   "source": [
    "# https://htmx.org/examples/\n",
    "# flask"
   ]
  },
  {
   "cell_type": "code",
   "execution_count": 2,
   "metadata": {},
   "outputs": [
    {
     "name": "stdout",
     "output_type": "stream",
     "text": [
      "Requirement already satisfied: flask in /usr/local/python/3.10.8/lib/python3.10/site-packages (3.0.0)\n",
      "Requirement already satisfied: Werkzeug>=3.0.0 in /usr/local/python/3.10.8/lib/python3.10/site-packages (from flask) (3.0.1)\n",
      "Requirement already satisfied: Jinja2>=3.1.2 in /home/codespace/.local/lib/python3.10/site-packages (from flask) (3.1.2)\n",
      "Requirement already satisfied: itsdangerous>=2.1.2 in /usr/local/python/3.10.8/lib/python3.10/site-packages (from flask) (2.1.2)\n",
      "Requirement already satisfied: click>=8.1.3 in /usr/local/python/3.10.8/lib/python3.10/site-packages (from flask) (8.1.7)\n",
      "Requirement already satisfied: blinker>=1.6.2 in /usr/local/python/3.10.8/lib/python3.10/site-packages (from flask) (1.6.3)\n",
      "Requirement already satisfied: MarkupSafe>=2.0 in /home/codespace/.local/lib/python3.10/site-packages (from Jinja2>=3.1.2->flask) (2.1.3)\n",
      "\n",
      "\u001b[1m[\u001b[0m\u001b[34;49mnotice\u001b[0m\u001b[1;39;49m]\u001b[0m\u001b[39;49m A new release of pip is available: \u001b[0m\u001b[31;49m23.3\u001b[0m\u001b[39;49m -> \u001b[0m\u001b[32;49m23.3.1\u001b[0m\n",
      "\u001b[1m[\u001b[0m\u001b[34;49mnotice\u001b[0m\u001b[1;39;49m]\u001b[0m\u001b[39;49m To update, run: \u001b[0m\u001b[32;49mpip install --upgrade pip\u001b[0m\n",
      "Note: you may need to restart the kernel to use updated packages.\n"
     ]
    }
   ],
   "source": [
    "%pip install flask"
   ]
  },
  {
   "cell_type": "code",
   "execution_count": null,
   "metadata": {},
   "outputs": [
    {
     "name": "stdout",
     "output_type": "stream",
     "text": [
      " * Serving Flask app ''\n",
      " * Debug mode: off\n"
     ]
    },
    {
     "name": "stderr",
     "output_type": "stream",
     "text": [
      "WARNING: This is a development server. Do not use it in a production deployment. Use a production WSGI server instead.\n",
      " * Running on http://127.0.0.1:18080\n",
      "Press CTRL+C to quit\n"
     ]
    },
    {
     "name": "stderr",
     "output_type": "stream",
     "text": [
      "127.0.0.1 - - [25/Oct/2023 00:10:37] \"GET / HTTP/1.1\" 404 -\n",
      "127.0.0.1 - - [25/Oct/2023 00:10:53] \"GET /index.html HTTP/1.1\" 200 -\n"
     ]
    },
    {
     "name": "stdout",
     "output_type": "stream",
     "text": [
      "### index.html\n"
     ]
    },
    {
     "name": "stderr",
     "output_type": "stream",
     "text": [
      "127.0.0.1 - - [25/Oct/2023 00:10:53] \"GET /style.css HTTP/1.1\" 200 -\n",
      "127.0.0.1 - - [25/Oct/2023 00:10:53] \"GET /index.css HTTP/1.1\" 200 -\n",
      "127.0.0.1 - - [25/Oct/2023 00:10:53] \"GET /public/quote-background.svg HTTP/1.1\" 200 -\n",
      "127.0.0.1 - - [25/Oct/2023 00:10:53] \"GET /public/linkedin.svg HTTP/1.1\" 200 -\n",
      "127.0.0.1 - - [25/Oct/2023 00:10:53] \"GET /public/instagram.svg HTTP/1.1\" 200 -\n",
      "127.0.0.1 - - [25/Oct/2023 00:10:53] \"GET /public/twitter.svg HTTP/1.1\" 200 -\n"
     ]
    },
    {
     "name": "stdout",
     "output_type": "stream",
     "text": [
      "### style.css\n",
      "### index.css\n",
      "### public/linkedin.svg\n",
      "### public/quote-background.svg\n",
      "### public/instagram.svg\n",
      "### public/twitter.svg\n"
     ]
    }
   ],
   "source": [
    "from flask import Flask , Response , redirect\n",
    "app = Flask(\"\")#__name__)\n",
    "\n",
    "\n",
    "# @app.route(\"/\")\n",
    "# def __HTMLRoot__():\n",
    "#     global HTMLRoot\n",
    "#     return \"\"\n",
    "\n",
    "@app.route('/')\n",
    "def hello():\n",
    "    return redirect(\"//index.html\", code=302)\n",
    "\n",
    "get_resource = lambda:\"<html><head/><body/></html>\"\n",
    "@app.route('/<path:path>')\n",
    "def __get_resource( path ):  # pragma: no cover\n",
    "    global get_resource\n",
    "    return get_resource( path )\n",
    "\n",
    "app.debug = False\n",
    "launcher = lambda: [ app.run(host='127.0.0.1',port=18080) for x in range( 3 ) ]\n",
    "\n",
    "from threading import Thread\n",
    "Thread(target=launcher, args=() ).start()"
   ]
  },
  {
   "cell_type": "code",
   "execution_count": null,
   "metadata": {},
   "outputs": [],
   "source": [
    "def get_resource( path ):  # pragma: no cover\n",
    "    print(\"###\" , path )\n",
    "    mimetypes = {\n",
    "        \".css\": \"text/css\",\n",
    "        \".html\": \"text/html\",\n",
    "        \".js\": \"application/javascript\",\n",
    "    }\n",
    "    with open( path ) as f_io:\n",
    "        return Response( f_io.read() , mimetype=mimetypes.get( path.split(\".\")[-1] , \"text/html\") )"
   ]
  },
  {
   "cell_type": "code",
   "execution_count": 2,
   "metadata": {},
   "outputs": [
    {
     "ename": "AssertionError",
     "evalue": "The setup method 'route' can no longer be called on the application. It has already handled its first request, any changes will not be applied consistently.\nMake sure all imports, decorators, functions, etc. needed to set up the application are done before running it.",
     "output_type": "error",
     "traceback": [
      "\u001b[0;31m---------------------------------------------------------------------------\u001b[0m",
      "\u001b[0;31mAssertionError\u001b[0m                            Traceback (most recent call last)",
      "\u001b[1;32m/workspaces/YAPIDNGC/__main__.ipynb Cell 4\u001b[0m line \u001b[0;36m6\n\u001b[1;32m      <a href='vscode-notebook-cell://codespaces%2Bexpert-space-waddle-w9x4p5x55jphgj59/workspaces/YAPIDNGC/__main__.ipynb#W6sdnNjb2RlLXJlbW90ZQ%3D%3D?line=0'>1</a>\u001b[0m \u001b[39m# @app.root()\u001b[39;00m\n\u001b[1;32m      <a href='vscode-notebook-cell://codespaces%2Bexpert-space-waddle-w9x4p5x55jphgj59/workspaces/YAPIDNGC/__main__.ipynb#W6sdnNjb2RlLXJlbW90ZQ%3D%3D?line=1'>2</a>\u001b[0m \u001b[39m# def __HTMLRoot__(ur):\u001b[39;00m\n\u001b[1;32m      <a href='vscode-notebook-cell://codespaces%2Bexpert-space-waddle-w9x4p5x55jphgj59/workspaces/YAPIDNGC/__main__.ipynb#W6sdnNjb2RlLXJlbW90ZQ%3D%3D?line=2'>3</a>\u001b[0m     \u001b[39m# with open(\"index.html\") as f_io:\u001b[39;00m\n\u001b[1;32m      <a href='vscode-notebook-cell://codespaces%2Bexpert-space-waddle-w9x4p5x55jphgj59/workspaces/YAPIDNGC/__main__.ipynb#W6sdnNjb2RlLXJlbW90ZQ%3D%3D?line=3'>4</a>\u001b[0m         \u001b[39m# return f_io.read()\u001b[39;00m\n\u001b[0;32m----> <a href='vscode-notebook-cell://codespaces%2Bexpert-space-waddle-w9x4p5x55jphgj59/workspaces/YAPIDNGC/__main__.ipynb#W6sdnNjb2RlLXJlbW90ZQ%3D%3D?line=5'>6</a>\u001b[0m \u001b[39m@app\u001b[39m\u001b[39m.\u001b[39;49mroute(\u001b[39m\"\u001b[39;49m\u001b[39m/\u001b[39;49m\u001b[39m\"\u001b[39;49m)\n\u001b[1;32m      <a href='vscode-notebook-cell://codespaces%2Bexpert-space-waddle-w9x4p5x55jphgj59/workspaces/YAPIDNGC/__main__.ipynb#W6sdnNjb2RlLXJlbW90ZQ%3D%3D?line=6'>7</a>\u001b[0m \u001b[39mdef\u001b[39;00m \u001b[39m__HTMLRoot__\u001b[39m():\n\u001b[1;32m      <a href='vscode-notebook-cell://codespaces%2Bexpert-space-waddle-w9x4p5x55jphgj59/workspaces/YAPIDNGC/__main__.ipynb#W6sdnNjb2RlLXJlbW90ZQ%3D%3D?line=7'>8</a>\u001b[0m     \u001b[39mglobal\u001b[39;00m HTMLRoot\n\u001b[1;32m      <a href='vscode-notebook-cell://codespaces%2Bexpert-space-waddle-w9x4p5x55jphgj59/workspaces/YAPIDNGC/__main__.ipynb#W6sdnNjb2RlLXJlbW90ZQ%3D%3D?line=8'>9</a>\u001b[0m     \u001b[39mreturn\u001b[39;00m HTMLRoot()\n",
      "File \u001b[0;32m~/.python/current/lib/python3.10/site-packages/flask/sansio/scaffold.py:43\u001b[0m, in \u001b[0;36msetupmethod.<locals>.wrapper_func\u001b[0;34m(self, *args, **kwargs)\u001b[0m\n\u001b[1;32m     42\u001b[0m \u001b[39mdef\u001b[39;00m \u001b[39mwrapper_func\u001b[39m(\u001b[39mself\u001b[39m, \u001b[39m*\u001b[39margs: t\u001b[39m.\u001b[39mAny, \u001b[39m*\u001b[39m\u001b[39m*\u001b[39mkwargs: t\u001b[39m.\u001b[39mAny) \u001b[39m-\u001b[39m\u001b[39m>\u001b[39m t\u001b[39m.\u001b[39mAny:\n\u001b[0;32m---> 43\u001b[0m     \u001b[39mself\u001b[39;49m\u001b[39m.\u001b[39;49m_check_setup_finished(f_name)\n\u001b[1;32m     44\u001b[0m     \u001b[39mreturn\u001b[39;00m f(\u001b[39mself\u001b[39m, \u001b[39m*\u001b[39margs, \u001b[39m*\u001b[39m\u001b[39m*\u001b[39mkwargs)\n",
      "File \u001b[0;32m~/.python/current/lib/python3.10/site-packages/flask/sansio/app.py:417\u001b[0m, in \u001b[0;36mApp._check_setup_finished\u001b[0;34m(self, f_name)\u001b[0m\n\u001b[1;32m    415\u001b[0m \u001b[39mdef\u001b[39;00m \u001b[39m_check_setup_finished\u001b[39m(\u001b[39mself\u001b[39m, f_name: \u001b[39mstr\u001b[39m) \u001b[39m-\u001b[39m\u001b[39m>\u001b[39m \u001b[39mNone\u001b[39;00m:\n\u001b[1;32m    416\u001b[0m     \u001b[39mif\u001b[39;00m \u001b[39mself\u001b[39m\u001b[39m.\u001b[39m_got_first_request:\n\u001b[0;32m--> 417\u001b[0m         \u001b[39mraise\u001b[39;00m \u001b[39mAssertionError\u001b[39;00m(\n\u001b[1;32m    418\u001b[0m             \u001b[39mf\u001b[39m\u001b[39m\"\u001b[39m\u001b[39mThe setup method \u001b[39m\u001b[39m'\u001b[39m\u001b[39m{\u001b[39;00mf_name\u001b[39m}\u001b[39;00m\u001b[39m'\u001b[39m\u001b[39m can no longer be called\u001b[39m\u001b[39m\"\u001b[39m\n\u001b[1;32m    419\u001b[0m             \u001b[39m\"\u001b[39m\u001b[39m on the application. It has already handled its first\u001b[39m\u001b[39m\"\u001b[39m\n\u001b[1;32m    420\u001b[0m             \u001b[39m\"\u001b[39m\u001b[39m request, any changes will not be applied\u001b[39m\u001b[39m\"\u001b[39m\n\u001b[1;32m    421\u001b[0m             \u001b[39m\"\u001b[39m\u001b[39m consistently.\u001b[39m\u001b[39m\\n\u001b[39;00m\u001b[39m\"\u001b[39m\n\u001b[1;32m    422\u001b[0m             \u001b[39m\"\u001b[39m\u001b[39mMake sure all imports, decorators, functions, etc.\u001b[39m\u001b[39m\"\u001b[39m\n\u001b[1;32m    423\u001b[0m             \u001b[39m\"\u001b[39m\u001b[39m needed to set up the application are done before\u001b[39m\u001b[39m\"\u001b[39m\n\u001b[1;32m    424\u001b[0m             \u001b[39m\"\u001b[39m\u001b[39m running it.\u001b[39m\u001b[39m\"\u001b[39m\n\u001b[1;32m    425\u001b[0m         )\n",
      "\u001b[0;31mAssertionError\u001b[0m: The setup method 'route' can no longer be called on the application. It has already handled its first request, any changes will not be applied consistently.\nMake sure all imports, decorators, functions, etc. needed to set up the application are done before running it."
     ]
    }
   ],
   "source": [
    "# @app.root()\n",
    "# def __HTMLRoot__(ur):\n",
    "    # with open(\"index.html\") as f_io:\n",
    "        # return f_io.read()\n"
   ]
  },
  {
   "cell_type": "code",
   "execution_count": 6,
   "metadata": {},
   "outputs": [],
   "source": [
    "def HTMLRoot():\n",
    "    with open(\"index.html\") as f_io:\n",
    "        return f_io.read()"
   ]
  },
  {
   "cell_type": "code",
   "execution_count": 7,
   "metadata": {},
   "outputs": [
    {
     "data": {
      "text/plain": [
       "'<!DOCTYPE html>\\n<html lang=\"en\">\\n  <head>\\n    <title>Viwah_Quick</title>\\n    <meta property=\"og:title\" content=\"Viwah_Quick\" />\\n    <meta name=\"viewport\" content=\"width=device-width, initial-scale=1.0\" />\\n    <meta charset=\"utf-8\" />\\n    <meta property=\"twitter:card\" content=\"summary_large_image\" />\\n\\n    <style data-tag=\"reset-style-sheet\">\\n      html {  line-height: 1.15;}body {  margin: 0;}* {  box-sizing: border-box;  border-width: 0;  border-style: solid;}p,li,ul,pre,div,h1,h2,h3,h4,h5,h6,figure,blockquote,figcaption {  margin: 0;  padding: 0;}button {  background-color: transparent;}button,input,optgroup,select,textarea {  font-family: inherit;  font-size: 100%;  line-height: 1.15;  margin: 0;}button,select {  text-transform: none;}button,[type=\"button\"],[type=\"reset\"],[type=\"submit\"] {  -webkit-appearance: button;}button::-moz-focus-inner,[type=\"button\"]::-moz-focus-inner,[type=\"reset\"]::-moz-focus-inner,[type=\"submit\"]::-moz-focus-inner {  border-style: none;  padding: 0;}button:-moz-focus,[type=\"button\"]:-moz-focus,[type=\"reset\"]:-moz-focus,[type=\"submit\"]:-moz-focus {  outline: 1px dotted ButtonText;}a {  color: inherit;  text-decoration: inherit;}input {  padding: 2px 4px;}img {  display: block;}html { scroll-behavior: smooth  }\\n    </style>\\n    <style data-tag=\"default-style-sheet\">\\n      html {\\n        font-family: Source Sans Pro;\\n        font-size: 16px;\\n      }\\n\\n      body {\\n        font-weight: 400;\\n        font-style:normal;\\n        text-decoration: none;\\n        text-transform: none;\\n        letter-spacing: normal;\\n        line-height: 1.15;\\n        color: var(--dl-color-gray-black);\\n        background-color: var(--dl-color-gray-white);\\n\\n      }\\n    </style>\\n    <link\\n      rel=\"stylesheet\"\\n      href=\"https://fonts.googleapis.com/css2?family=Source+Sans+Pro:ital,wght@0,200;0,300;0,400;0,600;0,700;0,900;1,200;1,300;1,400;1,600;1,700;1,900&amp;display=swap\"\\n      data-tag=\"font\"\\n    />\\n\\n    <style>\\n      [data-thq=\"thq-dropdown\"]:hover > [data-thq=\"thq-dropdown-list\"] {\\n          display: flex;\\n        }\\n\\n        [data-thq=\"thq-dropdown\"]:hover > div [data-thq=\"thq-dropdown-arrow\"] {\\n          transform: rotate(90deg);\\n        }\\n    </style>\\n    <script src=\"https://unpkg.com/scrollreveal\"></script>\\n    <script>\\n      ScrollReveal({ reset: true });\\n    </script>\\n  </head>\\n  <body>\\n    <link rel=\"stylesheet\" href=\"./style.css\" />\\n    <div>\\n      <link href=\"./index.css\" rel=\"stylesheet\" />\\n\\n      <div class=\"home-container\">\\n        <header data-thq=\"thq-navbar\" class=\"home-navbar\">\\n          <h2 class=\"home-text\">{{{PageName}}}</h2>\\n          <div\\n            data-thq=\"thq-navbar-nav\"\\n            data-role=\"Nav\"\\n            class=\"home-desktop-menu\"\\n          >\\n            <nav\\n              data-thq=\"thq-navbar-nav-links\"\\n              data-role=\"Nav\"\\n              class=\"home-nav\"\\n            >\\n              <span class=\"navLink\">Speakers</span>\\n              <span class=\"navLink\">Useful</span>\\n            </nav>\\n            <button type=\"button\" class=\"home-register button\">\\n              <span class=\"home-text01\">{{{ User.NickName }}}</span>\\n              <svg viewBox=\"0 0 1024 1024\" class=\"home-icon\">\\n                <path\\n                  d=\"M512 170l342 342-342 342-60-60 238-240h-520v-84h520l-238-240z\"\\n                ></path>\\n              </svg>\\n            </button>\\n            <div data-thq=\"thq-dropdown\" class=\"home-thq-dropdown list-item\">\\n              <ul data-thq=\"thq-dropdown-list\" class=\"home-dropdown-list\">\\n                <li data-thq=\"thq-dropdown\" class=\"home-dropdown list-item\">\\n                  <div\\n                    data-thq=\"thq-dropdown-toggle\"\\n                    class=\"home-dropdown-toggle\"\\n                  >\\n                    <span class=\"home-text02\">Sub-menu Item</span>\\n                  </div>\\n                </li>\\n                <li data-thq=\"thq-dropdown\" class=\"home-dropdown1 list-item\">\\n                  <div\\n                    data-thq=\"thq-dropdown-toggle\"\\n                    class=\"home-dropdown-toggle1\"\\n                  >\\n                    <span class=\"home-text03\">Sub-menu Item</span>\\n                  </div>\\n                </li>\\n                <li data-thq=\"thq-dropdown\" class=\"home-dropdown2 list-item\">\\n                  <div\\n                    data-thq=\"thq-dropdown-toggle\"\\n                    class=\"home-dropdown-toggle2\"\\n                  >\\n                    <span class=\"home-text04\">Sub-menu Item</span>\\n                  </div>\\n                </li>\\n              </ul>\\n            </div>\\n          </div>\\n          <div data-thq=\"thq-burger-menu\" class=\"home-burger-menu\">\\n            <svg viewBox=\"0 0 1024 1024\" class=\"home-icon02\">\\n              <path\\n                d=\"M128 554.667h768c23.552 0 42.667-19.115 42.667-42.667s-19.115-42.667-42.667-42.667h-768c-23.552 0-42.667 19.115-42.667 42.667s19.115 42.667 42.667 42.667zM128 298.667h768c23.552 0 42.667-19.115 42.667-42.667s-19.115-42.667-42.667-42.667h-768c-23.552 0-42.667 19.115-42.667 42.667s19.115 42.667 42.667 42.667zM128 810.667h768c23.552 0 42.667-19.115 42.667-42.667s-19.115-42.667-42.667-42.667h-768c-23.552 0-42.667 19.115-42.667 42.667s19.115 42.667 42.667 42.667z\"\\n              ></path>\\n            </svg>\\n          </div>\\n          <div data-thq=\"thq-mobile-menu\" class=\"home-mobile-menu\">\\n            <div\\n              data-thq=\"thq-mobile-menu-nav\"\\n              data-role=\"Nav\"\\n              class=\"home-nav1\"\\n            >\\n              <div class=\"home-container1\">\\n                <h2 class=\"home-text05\">OnConf</h2>\\n                <div data-thq=\"thq-close-menu\" class=\"home-menu-close\">\\n                  <svg viewBox=\"0 0 1024 1024\" class=\"home-icon04\">\\n                    <path\\n                      d=\"M810 274l-238 238 238 238-60 60-238-238-238 238-60-60 238-238-238-238 60-60 238 238 238-238z\"\\n                    ></path>\\n                  </svg>\\n                </div>\\n              </div>\\n              <nav\\n                data-thq=\"thq-mobile-menu-nav-links\"\\n                data-role=\"Nav\"\\n                class=\"home-nav2\"\\n              >\\n                <span class=\"navLink\">About</span>\\n                <span class=\"navLink\">Features</span>\\n                <span class=\"navLink\">Pricing</span>\\n                <span class=\"navLink\">Team</span>\\n                <span class=\"navLink\">Blog</span>\\n              </nav>\\n              <div class=\"home-button-container\">\\n                <button class=\"home-login button\">Login</button>\\n                <button class=\"button\">Register</button>\\n              </div>\\n              <div class=\"home-icon-group\">\\n                <div class=\"home-icons\">\\n                  <svg viewBox=\"0 0 950.8571428571428 1024\" class=\"home-icon06\">\\n                    <path\\n                      d=\"M925.714 233.143c-25.143 36.571-56.571 69.143-92.571 95.429 0.571 8 0.571 16 0.571 24 0 244-185.714 525.143-525.143 525.143-104.571 0-201.714-30.286-283.429-82.857 14.857 1.714 29.143 2.286 44.571 2.286 86.286 0 165.714-29.143 229.143-78.857-81.143-1.714-149.143-54.857-172.571-128 11.429 1.714 22.857 2.857 34.857 2.857 16.571 0 33.143-2.286 48.571-6.286-84.571-17.143-148-91.429-148-181.143v-2.286c24.571 13.714 53.143 22.286 83.429 23.429-49.714-33.143-82.286-89.714-82.286-153.714 0-34.286 9.143-65.714 25.143-93.143 90.857 112 227.429 185.143 380.571 193.143-2.857-13.714-4.571-28-4.571-42.286 0-101.714 82.286-184.571 184.571-184.571 53.143 0 101.143 22.286 134.857 58.286 41.714-8 81.714-23.429 117.143-44.571-13.714 42.857-42.857 78.857-81.143 101.714 37.143-4 73.143-14.286 106.286-28.571z\"\\n                    ></path></svg\\n                  ><svg\\n                    viewBox=\"0 0 877.7142857142857 1024\"\\n                    class=\"home-icon08\"\\n                  >\\n                    <path\\n                      d=\"M585.143 512c0-80.571-65.714-146.286-146.286-146.286s-146.286 65.714-146.286 146.286 65.714 146.286 146.286 146.286 146.286-65.714 146.286-146.286zM664 512c0 124.571-100.571 225.143-225.143 225.143s-225.143-100.571-225.143-225.143 100.571-225.143 225.143-225.143 225.143 100.571 225.143 225.143zM725.714 277.714c0 29.143-23.429 52.571-52.571 52.571s-52.571-23.429-52.571-52.571 23.429-52.571 52.571-52.571 52.571 23.429 52.571 52.571zM438.857 152c-64 0-201.143-5.143-258.857 17.714-20 8-34.857 17.714-50.286 33.143s-25.143 30.286-33.143 50.286c-22.857 57.714-17.714 194.857-17.714 258.857s-5.143 201.143 17.714 258.857c8 20 17.714 34.857 33.143 50.286s30.286 25.143 50.286 33.143c57.714 22.857 194.857 17.714 258.857 17.714s201.143 5.143 258.857-17.714c20-8 34.857-17.714 50.286-33.143s25.143-30.286 33.143-50.286c22.857-57.714 17.714-194.857 17.714-258.857s5.143-201.143-17.714-258.857c-8-20-17.714-34.857-33.143-50.286s-30.286-25.143-50.286-33.143c-57.714-22.857-194.857-17.714-258.857-17.714zM877.714 512c0 60.571 0.571 120.571-2.857 181.143-3.429 70.286-19.429 132.571-70.857 184s-113.714 67.429-184 70.857c-60.571 3.429-120.571 2.857-181.143 2.857s-120.571 0.571-181.143-2.857c-70.286-3.429-132.571-19.429-184-70.857s-67.429-113.714-70.857-184c-3.429-60.571-2.857-120.571-2.857-181.143s-0.571-120.571 2.857-181.143c3.429-70.286 19.429-132.571 70.857-184s113.714-67.429 184-70.857c60.571-3.429 120.571-2.857 181.143-2.857s120.571-0.571 181.143 2.857c70.286 3.429 132.571 19.429 184 70.857s67.429 113.714 70.857 184c3.429 60.571 2.857 120.571 2.857 181.143z\"\\n                    ></path></svg\\n                  ><svg\\n                    viewBox=\"0 0 602.2582857142856 1024\"\\n                    class=\"home-icon10\"\\n                  >\\n                    <path\\n                      d=\"M548 6.857v150.857h-89.714c-70.286 0-83.429 33.714-83.429 82.286v108h167.429l-22.286 169.143h-145.143v433.714h-174.857v-433.714h-145.714v-169.143h145.714v-124.571c0-144.571 88.571-223.429 217.714-223.429 61.714 0 114.857 4.571 130.286 6.857z\"\\n                    ></path>\\n                  </svg>\\n                </div>\\n              </div>\\n            </div>\\n            <img\\n              alt=\"image\"\\n              src=\"public/quote-background.svg\"\\n              class=\"home-background\"\\n            />\\n          </div>\\n        </header>\\n        <ul class=\"list\">\\n          <li class=\"list-item\"><span>content</span></li>\\n          <li class=\"list-item\">\\n            <span>\\n              <span>&lt;table&gt;&lt;/table&gt;</span>\\n              <br />\\n            </span>\\n          </li>\\n        </ul>\\n        <footer class=\"home-footer\">\\n          <div class=\"home-content\">\\n            <div class=\"home-details\">\\n              <p class=\"home-description\">\\n                <span>{{{ Footer.text }}}</span>\\n                <br />\\n              </p>\\n            </div>\\n            <div class=\"home-socials\">\\n              <img alt=\"image\" src=\"public/linkedin.svg\" class=\"social\" />\\n              <a\\n                href=\"https://example.com\"\\n                target=\"_blank\"\\n                rel=\"noreferrer noopener\"\\n                class=\"home-link2\"\\n              >\\n                <img\\n                  alt=\"image\"\\n                  src=\"public/instagram.svg\"\\n                  class=\"home-image1 social\"\\n                />\\n              </a>\\n              <a\\n                href=\"https://example.com\"\\n                target=\"_blank\"\\n                rel=\"noreferrer noopener\"\\n                class=\"home-link3\"\\n              >\\n                <img\\n                  alt=\"image\"\\n                  src=\"public/twitter.svg\"\\n                  class=\"home-image2 social\"\\n                />\\n              </a>\\n            </div>\\n            <span class=\"home-copyright\">\\n              Privacy — Terms &amp; Conditions — Code of Conduct © {{{\\n              datetime.year }}} No Rights Reserved\\n            </span>\\n          </div>\\n        </footer>\\n      </div>\\n    </div>\\n    <script\\n      data-section-id=\"navbar\"\\n      src=\"https://unpkg.com/@teleporthq/teleport-custom-scripts\"\\n    ></script>\\n  </body>\\n</html>\\n'"
      ]
     },
     "execution_count": 7,
     "metadata": {},
     "output_type": "execute_result"
    },
    {
     "name": "stderr",
     "output_type": "stream",
     "text": [
      "127.0.0.1 - - [25/Oct/2023 00:04:19] \"GET / HTTP/1.1\" 200 -\n",
      "[2023-10-25 00:04:19,766] ERROR in app: Exception on /style.css [GET]\n",
      "Traceback (most recent call last):\n",
      "  File \"/home/codespace/.python/current/lib/python3.10/site-packages/flask/app.py\", line 1455, in wsgi_app\n",
      "    response = self.full_dispatch_request()\n",
      "  File \"/home/codespace/.python/current/lib/python3.10/site-packages/flask/app.py\", line 869, in full_dispatch_request\n",
      "    rv = self.handle_user_exception(e)\n",
      "  File \"/home/codespace/.python/current/lib/python3.10/site-packages/flask/app.py\", line 867, in full_dispatch_request\n",
      "    rv = self.dispatch_request()\n",
      "  File \"/home/codespace/.python/current/lib/python3.10/site-packages/flask/app.py\", line 852, in dispatch_request\n",
      "    return self.ensure_sync(self.view_functions[rule.endpoint])(**view_args)\n",
      "  File \"/tmp/ipykernel_32531/3500382234.py\", line 21, in get_resource\n",
      "    return Response( get_file(path) , mimetype=mimetypes.get( os.path.splitext(path)[1] , \"text/html\") )\n",
      "NameError: name 'Response' is not defined\n",
      "127.0.0.1 - - [25/Oct/2023 00:04:19] \"GET /style.css HTTP/1.1\" 500 -\n",
      "[2023-10-25 00:04:19,774] ERROR in app: Exception on /public/quote-background.svg [GET]\n",
      "Traceback (most recent call last):\n",
      "  File \"/home/codespace/.python/current/lib/python3.10/site-packages/flask/app.py\", line 1455, in wsgi_app\n",
      "    response = self.full_dispatch_request()\n",
      "  File \"/home/codespace/.python/current/lib/python3.10/site-packages/flask/app.py\", line 869, in full_dispatch_request\n",
      "    rv = self.handle_user_exception(e)\n",
      "  File \"/home/codespace/.python/current/lib/python3.10/site-packages/flask/app.py\", line 867, in full_dispatch_request\n",
      "    rv = self.dispatch_request()\n",
      "  File \"/home/codespace/.python/current/lib/python3.10/site-packages/flask/app.py\", line 852, in dispatch_request\n",
      "    return self.ensure_sync(self.view_functions[rule.endpoint])(**view_args)\n",
      "  File \"/tmp/ipykernel_32531/3500382234.py\", line 21, in get_resource\n",
      "    return Response( get_file(path) , mimetype=mimetypes.get( os.path.splitext(path)[1] , \"text/html\") )\n",
      "NameError: name 'Response' is not defined\n",
      "127.0.0.1 - - [25/Oct/2023 00:04:19] \"[2023-10-25 00:04:19,779] ERROR in app: Exception on /public/linkedin.svg [GET]\n",
      "Traceback (most recent call last):\n",
      "  File \"/home/codespace/.python/current/lib/python3.10/site-packages/flask/app.py\", line 1455, in wsgi_app\n",
      "    response = self.full_dispatch_request()\n",
      "  File \"/home/codespace/.python/current/lib/python3.10/site-packages/flask/app.py\", line 869, in full_dispatch_request\n",
      "    rv = self.handle_user_exception(e)\n",
      "  File \"/home/codespace/.python/current/lib/python3.10/site-packages/flask/app.py\", line 867, in full_dispatch_request\n",
      "    rv = self.dispatch_request()\n",
      "  File \"/home/codespace/.python/current/lib/python3.10/site-packages/flask/app.py\", line 852, in dispatch_request\n",
      "    return self.ensure_sync(self.view_functions[rule.endpoint])(**view_args)\n",
      "  File \"/tmp/ipykernel_32531/3500382234.py\", line 21, in get_resource\n",
      "    return Response( get_file(path) , mimetype=mimetypes.get( os.path.splitext(path)[1] , \"text/html\") )\n",
      "NameError: name 'Response' is not defined\n",
      "[2023-10-25 00:04:19,779] ERROR in app: Exception on /index.css [GET]\n",
      "Traceback (most recent call last):\n",
      "  File \"/home/codespace/.python/current/lib/python3.10/site-packages/flask/app.py\", line 1455, in wsgi_app\n",
      "    response = self.full_dispatch_request()\n",
      "  File \"/home/codespace/.python/current/lib/python3.10/site-packages/flask/app.py\", line 869, in full_dispatch_request\n",
      "    rv = self.handle_user_exception(e)\n",
      "  File \"/home/codespace/.python/current/lib/python3.10/site-packages/flask/app.py\", line 867, in full_dispatch_request\n",
      "    rv = self.dispatch_request()\n",
      "  File \"/home/codespace/.python/current/lib/python3.10/site-packages/flask/app.py\", line 852, in dispatch_request\n",
      "    return self.ensure_sync(self.view_functions[rule.endpoint])(**view_args)\n",
      "  File \"/tmp/ipykernel_32531/3500382234.py\", line 21, in get_resource\n",
      "    return Response( get_file(path) , mimetype=mimetypes.get( os.path.splitext(path)[1] , \"text/html\") )\n",
      "NameError: name 'Response' is not defined\n",
      "[2023-10-25 00:04:19,771] INFO in _internal: 127.0.0.1 - - [25/Oct/2023 00:04:19] \"\u001b[35m\u001b[1mGET /style.css HTTP/1.1\u001b[0m\" 500 -\n",
      "GET /public/quote-background.svg HTTP/1.1\" 500 -\n",
      "[2023-10-25 00:04:19,781] INFO in _internal: 127.0.0.1 - - [25/Oct/2023 00:04:19] \"\u001b[35m\u001b[1mGET /public/quote-background.svg HTTP/1.1\u001b[0m\" 500 -\n",
      "127.0.0.1 - - [25/Oct/2023 00:04:19] \"GET /public/linkedin.svg HTTP/1.1\" 500 -\n",
      "[2023-10-25 00:04:19,786] INFO in _internal: 127.0.0.1 - - [25/Oct/2023 00:04:19] \"\u001b[35m\u001b[1mGET /public/linkedin.svg HTTP/1.1\u001b[0m\" 500 -\n",
      "127.0.0.1 - - [25/Oct/2023 00:04:19] \"GET /index.css HTTP/1.1\" 500 -\n",
      "[2023-10-25 00:04:19,790] INFO in _internal: 127.0.0.1 - - [25/Oct/2023 00:04:19] \"\u001b[35m\u001b[1mGET /index.css HTTP/1.1\u001b[0m\" 500 -\n",
      "[2023-10-25 00:04:19,912] ERROR in app: Exception on /public/instagram.svg [GET]\n",
      "Traceback (most recent call last):\n",
      "  File \"/home/codespace/.python/current/lib/python3.10/site-packages/flask/app.py\", line 1455, in wsgi_app\n",
      "    response = self.full_dispatch_request()\n",
      "  File \"/home/codespace/.python/current/lib/python3.10/site-packages/flask/app.py\", line 869, in full_dispatch_request\n",
      "    rv = self.handle_user_exception(e)\n",
      "  File \"/home/codespace/.python/current/lib/python3.10/site-packages/flask/app.py\", line 867, in full_dispatch_request\n",
      "    rv = self.dispatch_request()\n",
      "  File \"/home/codespace/.python/current/lib/python3.10/site-packages/flask/app.py\", line 852, in dispatch_request\n",
      "    return self.ensure_sync(self.view_functions[rule.endpoint])(**view_args)\n",
      "  File \"/tmp/ipykernel_32531/3500382234.py\", line 21, in get_resource\n",
      "    return Response( get_file(path) , mimetype=mimetypes.get( os.path.splitext(path)[1] , \"text/html\") )\n",
      "NameError: name 'Response' is not defined\n",
      "127.0.0.1 - - [25/Oct/2023 00:04:19] \"[2023-10-25 00:04:19,913] ERROR in app: Exception on /public/twitter.svg [GET]\n",
      "Traceback (most recent call last):\n",
      "  File \"/home/codespace/.python/current/lib/python3.10/site-packages/flask/app.py\", line 1455, in wsgi_app\n",
      "    response = self.full_dispatch_request()\n",
      "  File \"/home/codespace/.python/current/lib/python3.10/site-packages/flask/app.py\", line 869, in full_dispatch_request\n",
      "    rv = self.handle_user_exception(e)\n",
      "  File \"/home/codespace/.python/current/lib/python3.10/site-packages/flask/app.py\", line 867, in full_dispatch_request\n",
      "    rv = self.dispatch_request()\n",
      "  File \"/home/codespace/.python/current/lib/python3.10/site-packages/flask/app.py\", line 852, in dispatch_request\n",
      "    return self.ensure_sync(self.view_functions[rule.endpoint])(**view_args)\n",
      "  File \"/tmp/ipykernel_32531/3500382234.py\", line 21, in get_resource\n",
      "    return Response( get_file(path) , mimetype=mimetypes.get( os.path.splitext(path)[1] , \"text/html\") )\n",
      "NameError: name 'Response' is not defined\n",
      "GET /public/instagram.svg HTTP/1.1\" 500 -\n",
      "[2023-10-25 00:04:19,916] INFO in _internal: 127.0.0.1 - - [25/Oct/2023 00:04:19] \"\u001b[35m\u001b[1mGET /public/instagram.svg HTTP/1.1\u001b[0m\" 500 -\n",
      "127.0.0.1 - - [25/Oct/2023 00:04:19] \"GET /public/twitter.svg HTTP/1.1\" 500 -\n",
      "[2023-10-25 00:04:19,921] INFO in _internal: 127.0.0.1 - - [25/Oct/2023 00:04:19] \"\u001b[35m\u001b[1mGET /public/twitter.svg HTTP/1.1\u001b[0m\" 500 -\n"
     ]
    }
   ],
   "source": [
    "HTMLRoot()"
   ]
  }
 ],
 "metadata": {
  "kernelspec": {
   "display_name": "Python 3",
   "language": "python",
   "name": "python3"
  },
  "language_info": {
   "codemirror_mode": {
    "name": "ipython",
    "version": 3
   },
   "file_extension": ".py",
   "mimetype": "text/x-python",
   "name": "python",
   "nbconvert_exporter": "python",
   "pygments_lexer": "ipython3",
   "version": "3.10.8"
  },
  "orig_nbformat": 4
 },
 "nbformat": 4,
 "nbformat_minor": 2
}
